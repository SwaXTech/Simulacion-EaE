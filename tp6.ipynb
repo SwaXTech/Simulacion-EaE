{
  "nbformat": 4,
  "nbformat_minor": 0,
  "metadata": {
    "colab": {
      "name": "tp6.ipynb",
      "provenance": [],
      "collapsed_sections": [],
      "authorship_tag": "ABX9TyPkHL2jboUTdUprvnfxcpVu",
      "include_colab_link": true
    },
    "kernelspec": {
      "name": "python3",
      "display_name": "Python 3"
    },
    "language_info": {
      "name": "python"
    }
  },
  "cells": [
    {
      "cell_type": "markdown",
      "metadata": {
        "id": "view-in-github",
        "colab_type": "text"
      },
      "source": [
        "<a href=\"https://colab.research.google.com/github/SwaXTech/Simulacion-EaE/blob/main/tp6.ipynb\" target=\"_parent\"><img src=\"https://colab.research.google.com/assets/colab-badge.svg\" alt=\"Open In Colab\"/></a>"
      ]
    },
    {
      "cell_type": "markdown",
      "metadata": {
        "id": "mrLvyu-t4y7V"
      },
      "source": [
        "# Trabajo Práctico #6\n",
        "\n"
      ]
    },
    {
      "cell_type": "code",
      "metadata": {
        "cellView": "form",
        "id": "oIGDLDT3s3f2"
      },
      "source": [
        "#@title Imports de bibliotecas necesarias\n",
        "from datetime import datetime\n",
        "import pandas as pd\n",
        "from matplotlib import pyplot as plt\n",
        "import numpy as np"
      ],
      "execution_count": 1,
      "outputs": []
    },
    {
      "cell_type": "code",
      "metadata": {
        "cellView": "form",
        "id": "j9jlqNNTazMj"
      },
      "source": [
        "#@title Definición de funciones\n",
        "def graph(dictionary, name):\n",
        "  objects = dictionary.keys()\n",
        "  y_pos = np.arange(len(objects))\n",
        "  values = dictionary.values()\n",
        "\n",
        "  plt.figure(figsize=(20, 5))\n",
        "  plt.bar(y_pos, values, align='edge', width=0.3)\n",
        "  plt.xticks(y_pos, objects)\n",
        "  plt.ylabel('Peticiones')\n",
        "  plt.title(name)\n",
        "\n",
        "  plt.show()\n",
        "\n",
        "\n",
        "def calculate_intervals(timestamps_list):\n",
        "  intervals = []\n",
        "\n",
        "  i = 1\n",
        "  while i < len(timestamps_list):\n",
        "    intervals.append((timestamps_list[i] - timestamps_list[i - 1]).astype('timedelta64[s]').astype(np.int32))\n",
        "    i += 1\n",
        "\n",
        "  return intervals\n",
        "\n",
        "\n",
        "def print_data(dictionary):\n",
        "  values = np.array(list(dictionary.values()))\n",
        "\n",
        "  print(\"Media: %f\" % values.mean())\n",
        "  print(\"Varianza: %f\" %values.var())\n",
        "  print(\"Desvío Estandar: %f\" %values.std())\n",
        "\n",
        "def ocurr_by_hour(timestamps):\n",
        "  dictionary = {}\n",
        "  for date in timestamps:\n",
        "    hour = date.hour\n",
        "\n",
        "    if hour in dictionary.keys():\n",
        "      dictionary[hour] +=1\n",
        "    else:\n",
        "      dictionary[hour] = 0\n",
        "\n",
        "  return dictionary\n"
      ],
      "execution_count": 2,
      "outputs": []
    },
    {
      "cell_type": "code",
      "metadata": {
        "colab": {
          "base_uri": "https://localhost:8080/"
        },
        "id": "Fa6vF5mg5TRQ",
        "cellView": "form",
        "outputId": "13b95ecd-ba6e-4dce-8460-bc7988e6c2ba"
      },
      "source": [
        "#@title Descarga del archivo de TimeStamps\n",
        "!curl -L -o timestamps.csv -C - 'https://raw.githubusercontent.com/SwaXTech/Simulacion-EaE/main/timestamps.csv'"
      ],
      "execution_count": 3,
      "outputs": [
        {
          "output_type": "stream",
          "name": "stdout",
          "text": [
            "** Resuming transfer from byte position 682669\n",
            "  % Total    % Received % Xferd  Average Speed   Time    Time     Time  Current\n",
            "                                 Dload  Upload   Total   Spent    Left  Speed\n",
            "\r  0     0    0     0    0     0      0      0 --:--:-- --:--:-- --:--:--     0\r  0     0    0     0    0     0      0      0 --:--:-- --:--:-- --:--:--     0\n"
          ]
        }
      ]
    },
    {
      "cell_type": "code",
      "metadata": {
        "colab": {
          "base_uri": "https://localhost:8080/",
          "height": 419
        },
        "id": "vi1LCamvreg1",
        "cellView": "form",
        "outputId": "ce4198b5-2f3e-43cb-aa2e-6159bff37d62"
      },
      "source": [
        "#@title Carga del archivo de timestamps\n",
        "serie = pd.read_csv('timestamps.csv')\n",
        "serie"
      ],
      "execution_count": 4,
      "outputs": [
        {
          "output_type": "execute_result",
          "data": {
            "text/html": [
              "<div>\n",
              "<style scoped>\n",
              "    .dataframe tbody tr th:only-of-type {\n",
              "        vertical-align: middle;\n",
              "    }\n",
              "\n",
              "    .dataframe tbody tr th {\n",
              "        vertical-align: top;\n",
              "    }\n",
              "\n",
              "    .dataframe thead th {\n",
              "        text-align: right;\n",
              "    }\n",
              "</style>\n",
              "<table border=\"1\" class=\"dataframe\">\n",
              "  <thead>\n",
              "    <tr style=\"text-align: right;\">\n",
              "      <th></th>\n",
              "      <th>14/09/2021 0:00:07</th>\n",
              "    </tr>\n",
              "  </thead>\n",
              "  <tbody>\n",
              "    <tr>\n",
              "      <th>0</th>\n",
              "      <td>14/09/2021 0:00:08</td>\n",
              "    </tr>\n",
              "    <tr>\n",
              "      <th>1</th>\n",
              "      <td>14/09/2021 0:00:08</td>\n",
              "    </tr>\n",
              "    <tr>\n",
              "      <th>2</th>\n",
              "      <td>14/09/2021 0:00:11</td>\n",
              "    </tr>\n",
              "    <tr>\n",
              "      <th>3</th>\n",
              "      <td>14/09/2021 0:00:21</td>\n",
              "    </tr>\n",
              "    <tr>\n",
              "      <th>4</th>\n",
              "      <td>14/09/2021 0:00:22</td>\n",
              "    </tr>\n",
              "    <tr>\n",
              "      <th>...</th>\n",
              "      <td>...</td>\n",
              "    </tr>\n",
              "    <tr>\n",
              "      <th>32821</th>\n",
              "      <td>14/09/2021 23:59:31</td>\n",
              "    </tr>\n",
              "    <tr>\n",
              "      <th>32822</th>\n",
              "      <td>14/09/2021 23:59:44</td>\n",
              "    </tr>\n",
              "    <tr>\n",
              "      <th>32823</th>\n",
              "      <td>14/09/2021 23:59:47</td>\n",
              "    </tr>\n",
              "    <tr>\n",
              "      <th>32824</th>\n",
              "      <td>14/09/2021 23:59:58</td>\n",
              "    </tr>\n",
              "    <tr>\n",
              "      <th>32825</th>\n",
              "      <td>14/09/2021 23:59:58</td>\n",
              "    </tr>\n",
              "  </tbody>\n",
              "</table>\n",
              "<p>32826 rows × 1 columns</p>\n",
              "</div>"
            ],
            "text/plain": [
              "        14/09/2021 0:00:07\n",
              "0       14/09/2021 0:00:08\n",
              "1       14/09/2021 0:00:08\n",
              "2       14/09/2021 0:00:11\n",
              "3       14/09/2021 0:00:21\n",
              "4       14/09/2021 0:00:22\n",
              "...                    ...\n",
              "32821  14/09/2021 23:59:31\n",
              "32822  14/09/2021 23:59:44\n",
              "32823  14/09/2021 23:59:47\n",
              "32824  14/09/2021 23:59:58\n",
              "32825  14/09/2021 23:59:58\n",
              "\n",
              "[32826 rows x 1 columns]"
            ]
          },
          "metadata": {},
          "execution_count": 4
        }
      ]
    },
    {
      "cell_type": "code",
      "metadata": {
        "id": "_xijCTCDrhci",
        "cellView": "form"
      },
      "source": [
        "#@title Conversión de strings a datetime\n",
        "datetime_serie = serie.iloc[:,0].map(lambda timestamp: datetime.strptime(timestamp, '%d/%m/%Y %H:%M:%S'))"
      ],
      "execution_count": 5,
      "outputs": []
    },
    {
      "cell_type": "code",
      "metadata": {
        "colab": {
          "base_uri": "https://localhost:8080/",
          "height": 814
        },
        "id": "v2ea9vJevU4I",
        "cellView": "form",
        "outputId": "e984457b-2321-46a8-a2b5-59efede8b2e3"
      },
      "source": [
        "#@title Separando por hora para conocer cómo se distribuyen las peticiones a lo largo de las horas\n",
        "dictionary = ocurr_by_hour(datetime_serie)\n",
        "\n",
        "print(\"Peticiones por Hora\")\n",
        "pd.Series(dictionary, name=\"Peticiones por Hora\").to_frame()"
      ],
      "execution_count": 6,
      "outputs": [
        {
          "output_type": "stream",
          "name": "stdout",
          "text": [
            "Peticiones por Hora\n"
          ]
        },
        {
          "output_type": "execute_result",
          "data": {
            "text/html": [
              "<div>\n",
              "<style scoped>\n",
              "    .dataframe tbody tr th:only-of-type {\n",
              "        vertical-align: middle;\n",
              "    }\n",
              "\n",
              "    .dataframe tbody tr th {\n",
              "        vertical-align: top;\n",
              "    }\n",
              "\n",
              "    .dataframe thead th {\n",
              "        text-align: right;\n",
              "    }\n",
              "</style>\n",
              "<table border=\"1\" class=\"dataframe\">\n",
              "  <thead>\n",
              "    <tr style=\"text-align: right;\">\n",
              "      <th></th>\n",
              "      <th>Peticiones por Hora</th>\n",
              "    </tr>\n",
              "  </thead>\n",
              "  <tbody>\n",
              "    <tr>\n",
              "      <th>0</th>\n",
              "      <td>775</td>\n",
              "    </tr>\n",
              "    <tr>\n",
              "      <th>1</th>\n",
              "      <td>423</td>\n",
              "    </tr>\n",
              "    <tr>\n",
              "      <th>2</th>\n",
              "      <td>283</td>\n",
              "    </tr>\n",
              "    <tr>\n",
              "      <th>3</th>\n",
              "      <td>239</td>\n",
              "    </tr>\n",
              "    <tr>\n",
              "      <th>4</th>\n",
              "      <td>287</td>\n",
              "    </tr>\n",
              "    <tr>\n",
              "      <th>5</th>\n",
              "      <td>408</td>\n",
              "    </tr>\n",
              "    <tr>\n",
              "      <th>6</th>\n",
              "      <td>516</td>\n",
              "    </tr>\n",
              "    <tr>\n",
              "      <th>7</th>\n",
              "      <td>962</td>\n",
              "    </tr>\n",
              "    <tr>\n",
              "      <th>8</th>\n",
              "      <td>1242</td>\n",
              "    </tr>\n",
              "    <tr>\n",
              "      <th>9</th>\n",
              "      <td>1555</td>\n",
              "    </tr>\n",
              "    <tr>\n",
              "      <th>10</th>\n",
              "      <td>2292</td>\n",
              "    </tr>\n",
              "    <tr>\n",
              "      <th>11</th>\n",
              "      <td>2206</td>\n",
              "    </tr>\n",
              "    <tr>\n",
              "      <th>12</th>\n",
              "      <td>1955</td>\n",
              "    </tr>\n",
              "    <tr>\n",
              "      <th>13</th>\n",
              "      <td>2318</td>\n",
              "    </tr>\n",
              "    <tr>\n",
              "      <th>14</th>\n",
              "      <td>2204</td>\n",
              "    </tr>\n",
              "    <tr>\n",
              "      <th>15</th>\n",
              "      <td>2319</td>\n",
              "    </tr>\n",
              "    <tr>\n",
              "      <th>16</th>\n",
              "      <td>2039</td>\n",
              "    </tr>\n",
              "    <tr>\n",
              "      <th>17</th>\n",
              "      <td>2268</td>\n",
              "    </tr>\n",
              "    <tr>\n",
              "      <th>18</th>\n",
              "      <td>1909</td>\n",
              "    </tr>\n",
              "    <tr>\n",
              "      <th>19</th>\n",
              "      <td>1599</td>\n",
              "    </tr>\n",
              "    <tr>\n",
              "      <th>20</th>\n",
              "      <td>1325</td>\n",
              "    </tr>\n",
              "    <tr>\n",
              "      <th>21</th>\n",
              "      <td>1369</td>\n",
              "    </tr>\n",
              "    <tr>\n",
              "      <th>22</th>\n",
              "      <td>1285</td>\n",
              "    </tr>\n",
              "    <tr>\n",
              "      <th>23</th>\n",
              "      <td>1024</td>\n",
              "    </tr>\n",
              "  </tbody>\n",
              "</table>\n",
              "</div>"
            ],
            "text/plain": [
              "    Peticiones por Hora\n",
              "0                   775\n",
              "1                   423\n",
              "2                   283\n",
              "3                   239\n",
              "4                   287\n",
              "5                   408\n",
              "6                   516\n",
              "7                   962\n",
              "8                  1242\n",
              "9                  1555\n",
              "10                 2292\n",
              "11                 2206\n",
              "12                 1955\n",
              "13                 2318\n",
              "14                 2204\n",
              "15                 2319\n",
              "16                 2039\n",
              "17                 2268\n",
              "18                 1909\n",
              "19                 1599\n",
              "20                 1325\n",
              "21                 1369\n",
              "22                 1285\n",
              "23                 1024"
            ]
          },
          "metadata": {},
          "execution_count": 6
        }
      ]
    },
    {
      "cell_type": "code",
      "metadata": {
        "colab": {
          "base_uri": "https://localhost:8080/",
          "height": 336
        },
        "id": "vTFxcPlQzYPu",
        "cellView": "form",
        "outputId": "8aab007a-2d01-426f-985a-021e693b9e91"
      },
      "source": [
        "#@title Generación del Histograma\n",
        "#@markdown Separaremos la función de probabilidad en dos <br>\n",
        "#@markdown - 9 a 20hs\n",
        "#@markdown - 20 a 9hs\n",
        "\n",
        "graph(dictionary, \"Peticiones por Hora - Todo el Día\")"
      ],
      "execution_count": 7,
      "outputs": [
        {
          "output_type": "display_data",
          "data": {
            "image/png": "[encoded data removed]",
            "text/plain": [
              "<Figure size 1440x360 with 1 Axes>"
            ]
          },
          "metadata": {
            "needs_background": "light"
          }
        }
      ]
    },
    {
      "cell_type": "code",
      "metadata": {
        "id": "E50ilpxY2gGM",
        "colab": {
          "base_uri": "https://localhost:8080/"
        },
        "cellView": "form",
        "outputId": "b64c986d-0141-4d7c-9972-95253b90961b"
      },
      "source": [
        "#@title Media, Varianza y Desvío Estandar\n",
        "print_data(dictionary)"
      ],
      "execution_count": 8,
      "outputs": [
        {
          "output_type": "stream",
          "name": "stdout",
          "text": [
            "Media: 1366.750000\n",
            "Varianza: 536166.354167\n",
            "Desvío Estandar: 732.233811\n"
          ]
        }
      ]
    },
    {
      "cell_type": "code",
      "metadata": {
        "cellView": "form",
        "id": "1vG6b__2E8CN"
      },
      "source": [
        "#@title Reacomodamiento de timestamps\n",
        "\n",
        "fr_0_9 =  [date for date in datetime_serie if date.hour < 9 ]\n",
        "fr_9_19 = [date for date in datetime_serie if date.hour <= 19 and date.hour >= 9 ]\n",
        "fr_19_0 = [date for date in datetime_serie if date.hour > 19 ]\n",
        "\n",
        "\n",
        "dictionary_madrugada = ocurr_by_hour(fr_0_9)\n",
        "dictionary_dia = ocurr_by_hour(fr_9_19)\n",
        "dictionary_noche = ocurr_by_hour(fr_19_0)\n"
      ],
      "execution_count": 9,
      "outputs": []
    },
    {
      "cell_type": "code",
      "metadata": {
        "colab": {
          "base_uri": "https://localhost:8080/",
          "height": 336
        },
        "cellView": "form",
        "id": "4RPZzcFdTrqX",
        "outputId": "8b093334-6e8c-4a89-af30-bc0b1312b06f"
      },
      "source": [
        "#@title Histograma - Horario de Madrugada\n",
        "graph(dictionary_madrugada, \"Peticiones por Hora - Horario de Madrugada\")"
      ],
      "execution_count": 10,
      "outputs": [
        {
          "output_type": "display_data",
          "data": {
            "image/png": "[encoded data removed]",
            "text/plain": [
              "<Figure size 1440x360 with 1 Axes>"
            ]
          },
          "metadata": {
            "needs_background": "light"
          }
        }
      ]
    },
    {
      "cell_type": "code",
      "metadata": {
        "colab": {
          "base_uri": "https://localhost:8080/"
        },
        "cellView": "form",
        "id": "H2aHQ89RHmDL",
        "outputId": "054393cf-46b4-4960-e84f-407e95459d4b"
      },
      "source": [
        "#@title Media, Varianza y Desvío Estandar - Horario Madrugada\n",
        "print_data(dictionary_madrugada)"
      ],
      "execution_count": 11,
      "outputs": [
        {
          "output_type": "stream",
          "name": "stdout",
          "text": [
            "Media: 570.555556\n",
            "Varianza: 107784.246914\n",
            "Desvío Estandar: 328.305113\n"
          ]
        }
      ]
    },
    {
      "cell_type": "code",
      "metadata": {
        "colab": {
          "base_uri": "https://localhost:8080/",
          "height": 336
        },
        "cellView": "form",
        "id": "5ZWW4BXOZbxb",
        "outputId": "0ad4eb9e-ec41-4b46-9ee2-07b31274fb3a"
      },
      "source": [
        "#@title Histograma - Horario Día\n",
        "graph(dictionary_dia, \"Peticiones por Hora - Horario Día\")"
      ],
      "execution_count": 12,
      "outputs": [
        {
          "output_type": "display_data",
          "data": {
            "image/png": "[encoded data removed]",
            "text/plain": [
              "<Figure size 1440x360 with 1 Axes>"
            ]
          },
          "metadata": {
            "needs_background": "light"
          }
        }
      ]
    },
    {
      "cell_type": "code",
      "metadata": {
        "colab": {
          "base_uri": "https://localhost:8080/"
        },
        "cellView": "form",
        "id": "nLCfkzhkZpgb",
        "outputId": "a4dd7ed2-ae1f-4b7f-d284-803b144fa5de"
      },
      "source": [
        "#@title Media, Varianza y Desvío Estandar - Horario Pico\n",
        "print_data(dictionary_dia)"
      ],
      "execution_count": 13,
      "outputs": [
        {
          "output_type": "stream",
          "name": "stdout",
          "text": [
            "Media: 2060.363636\n",
            "Varianza: 70417.867769\n",
            "Desvío Estandar: 265.363652\n"
          ]
        }
      ]
    },
    {
      "cell_type": "code",
      "metadata": {
        "colab": {
          "base_uri": "https://localhost:8080/",
          "height": 336
        },
        "cellView": "form",
        "id": "2UuzXHzBHuMX",
        "outputId": "fbf31ca8-bee2-4630-acac-b92e05cb32a6"
      },
      "source": [
        "#@title Histograma - Horario Noche\n",
        "graph(dictionary_noche, \"Peticiones por Hora - Horario Noche\")"
      ],
      "execution_count": 14,
      "outputs": [
        {
          "output_type": "display_data",
          "data": {
            "image/png": "[encoded data removed]",
            "text/plain": [
              "<Figure size 1440x360 with 1 Axes>"
            ]
          },
          "metadata": {
            "needs_background": "light"
          }
        }
      ]
    },
    {
      "cell_type": "code",
      "metadata": {
        "colab": {
          "base_uri": "https://localhost:8080/"
        },
        "cellView": "form",
        "id": "6xj92hGlaCWl",
        "outputId": "2e894d40-cc78-408d-8b55-0e01d50de3cc"
      },
      "source": [
        "#@title Media, Varianza y Desvío Estandar - Horario Noche\n",
        "print_data(dictionary_noche)"
      ],
      "execution_count": 15,
      "outputs": [
        {
          "output_type": "stream",
          "name": "stdout",
          "text": [
            "Media: 1250.750000\n",
            "Varianza: 18021.187500\n",
            "Desvío Estandar: 134.243017\n"
          ]
        }
      ]
    },
    {
      "cell_type": "code",
      "metadata": {
        "colab": {
          "base_uri": "https://localhost:8080/",
          "height": 17
        },
        "cellView": "form",
        "id": "FRT2frYseR50",
        "outputId": "14376f97-ece9-429c-8c32-ec35a3084b4f"
      },
      "source": [
        "#@title Descargar archivos .xlsx para Kairos (Solo funciona en chrome o basados en chromium)\n",
        "\n",
        "from google.colab import files\n",
        "\n",
        "pd.Series(fr_0_9).to_excel('horario_madrugada.xlsx', index = False, header = False)\n",
        "files.download('horario_madrugada.xlsx')\n",
        "\n",
        "pd.Series(fr_9_19).to_excel('horario_dia.xlsx', index = False, header = False)\n",
        "files.download('horario_dia.xlsx')\n",
        "\n",
        "pd.Series(fr_19_0).to_excel('horario_noche.xlsx', index = False, header = False)\n",
        "files.download('horario_noche.xlsx')"
      ],
      "execution_count": 19,
      "outputs": [
        {
          "output_type": "display_data",
          "data": {
            "application/javascript": [
              "\n",
              "    async function download(id, filename, size) {\n",
              "      if (!google.colab.kernel.accessAllowed) {\n",
              "        return;\n",
              "      }\n",
              "      const div = document.createElement('div');\n",
              "      const label = document.createElement('label');\n",
              "      label.textContent = `Downloading \"${filename}\": `;\n",
              "      div.appendChild(label);\n",
              "      const progress = document.createElement('progress');\n",
              "      progress.max = size;\n",
              "      div.appendChild(progress);\n",
              "      document.body.appendChild(div);\n",
              "\n",
              "      const buffers = [];\n",
              "      let downloaded = 0;\n",
              "\n",
              "      const channel = await google.colab.kernel.comms.open(id);\n",
              "      // Send a message to notify the kernel that we're ready.\n",
              "      channel.send({})\n",
              "\n",
              "      for await (const message of channel.messages) {\n",
              "        // Send a message to notify the kernel that we're ready.\n",
              "        channel.send({})\n",
              "        if (message.buffers) {\n",
              "          for (const buffer of message.buffers) {\n",
              "            buffers.push(buffer);\n",
              "            downloaded += buffer.byteLength;\n",
              "            progress.value = downloaded;\n",
              "          }\n",
              "        }\n",
              "      }\n",
              "      const blob = new Blob(buffers, {type: 'application/binary'});\n",
              "      const a = document.createElement('a');\n",
              "      a.href = window.URL.createObjectURL(blob);\n",
              "      a.download = filename;\n",
              "      div.appendChild(a);\n",
              "      a.click();\n",
              "      div.remove();\n",
              "    }\n",
              "  "
            ],
            "text/plain": [
              "<IPython.core.display.Javascript object>"
            ]
          },
          "metadata": {}
        },
        {
          "output_type": "display_data",
          "data": {
            "application/javascript": [
              "download(\"download_ad356cf4-8c25-4aa0-ab09-1f65438a659a\", \"horario_madrugada.xlsx\", 51114)"
            ],
            "text/plain": [
              "<IPython.core.display.Javascript object>"
            ]
          },
          "metadata": {}
        },
        {
          "output_type": "display_data",
          "data": {
            "application/javascript": [
              "\n",
              "    async function download(id, filename, size) {\n",
              "      if (!google.colab.kernel.accessAllowed) {\n",
              "        return;\n",
              "      }\n",
              "      const div = document.createElement('div');\n",
              "      const label = document.createElement('label');\n",
              "      label.textContent = `Downloading \"${filename}\": `;\n",
              "      div.appendChild(label);\n",
              "      const progress = document.createElement('progress');\n",
              "      progress.max = size;\n",
              "      div.appendChild(progress);\n",
              "      document.body.appendChild(div);\n",
              "\n",
              "      const buffers = [];\n",
              "      let downloaded = 0;\n",
              "\n",
              "      const channel = await google.colab.kernel.comms.open(id);\n",
              "      // Send a message to notify the kernel that we're ready.\n",
              "      channel.send({})\n",
              "\n",
              "      for await (const message of channel.messages) {\n",
              "        // Send a message to notify the kernel that we're ready.\n",
              "        channel.send({})\n",
              "        if (message.buffers) {\n",
              "          for (const buffer of message.buffers) {\n",
              "            buffers.push(buffer);\n",
              "            downloaded += buffer.byteLength;\n",
              "            progress.value = downloaded;\n",
              "          }\n",
              "        }\n",
              "      }\n",
              "      const blob = new Blob(buffers, {type: 'application/binary'});\n",
              "      const a = document.createElement('a');\n",
              "      a.href = window.URL.createObjectURL(blob);\n",
              "      a.download = filename;\n",
              "      div.appendChild(a);\n",
              "      a.click();\n",
              "      div.remove();\n",
              "    }\n",
              "  "
            ],
            "text/plain": [
              "<IPython.core.display.Javascript object>"
            ]
          },
          "metadata": {}
        },
        {
          "output_type": "display_data",
          "data": {
            "application/javascript": [
              "download(\"download_ff00973d-f848-4aa2-86bc-d17c2de5e2e3\", \"horario_dia.xlsx\", 195292)"
            ],
            "text/plain": [
              "<IPython.core.display.Javascript object>"
            ]
          },
          "metadata": {}
        },
        {
          "output_type": "display_data",
          "data": {
            "application/javascript": [
              "\n",
              "    async function download(id, filename, size) {\n",
              "      if (!google.colab.kernel.accessAllowed) {\n",
              "        return;\n",
              "      }\n",
              "      const div = document.createElement('div');\n",
              "      const label = document.createElement('label');\n",
              "      label.textContent = `Downloading \"${filename}\": `;\n",
              "      div.appendChild(label);\n",
              "      const progress = document.createElement('progress');\n",
              "      progress.max = size;\n",
              "      div.appendChild(progress);\n",
              "      document.body.appendChild(div);\n",
              "\n",
              "      const buffers = [];\n",
              "      let downloaded = 0;\n",
              "\n",
              "      const channel = await google.colab.kernel.comms.open(id);\n",
              "      // Send a message to notify the kernel that we're ready.\n",
              "      channel.send({})\n",
              "\n",
              "      for await (const message of channel.messages) {\n",
              "        // Send a message to notify the kernel that we're ready.\n",
              "        channel.send({})\n",
              "        if (message.buffers) {\n",
              "          for (const buffer of message.buffers) {\n",
              "            buffers.push(buffer);\n",
              "            downloaded += buffer.byteLength;\n",
              "            progress.value = downloaded;\n",
              "          }\n",
              "        }\n",
              "      }\n",
              "      const blob = new Blob(buffers, {type: 'application/binary'});\n",
              "      const a = document.createElement('a');\n",
              "      a.href = window.URL.createObjectURL(blob);\n",
              "      a.download = filename;\n",
              "      div.appendChild(a);\n",
              "      a.click();\n",
              "      div.remove();\n",
              "    }\n",
              "  "
            ],
            "text/plain": [
              "<IPython.core.display.Javascript object>"
            ]
          },
          "metadata": {}
        },
        {
          "output_type": "display_data",
          "data": {
            "application/javascript": [
              "download(\"download_47f2cf51-1cc4-4b48-8e26-2558ce683e3d\", \"horario_noche.xlsx\", 48254)"
            ],
            "text/plain": [
              "<IPython.core.display.Javascript object>"
            ]
          },
          "metadata": {}
        }
      ]
    },
    {
      "cell_type": "code",
      "metadata": {
        "id": "oF8WYtqNMhv1"
      },
      "source": [
        "from numpy import random"
      ],
      "execution_count": 20,
      "outputs": []
    },
    {
      "cell_type": "markdown",
      "metadata": {
        "id": "1SuJWM2RKymT"
      },
      "source": [
        "# Horario día\n",
        "\n",
        "Función de Densidad de Probabilidad (Exponencial) :\n",
        "\n",
        "$$f(x) = 0.5726e^{-0.5726x}$$\n",
        "\n",
        "Función Inversa:\n",
        "\n",
        "$$f(R) = \\frac{ln(-R+1)}{-0.5726}$$\n",
        "\n",
        ">Nota: Debe ignorarse R = 1 pues causará error en el logaritmo natural.\n",
        "\n",
        "\n"
      ]
    },
    {
      "cell_type": "code",
      "metadata": {
        "id": "uEN_HijpMV3f"
      },
      "source": [
        "def IA_dia():\n",
        "  r = random.rand()\n",
        "  return int(np.log(-r+1) / -0.5726)\n"
      ],
      "execution_count": 38,
      "outputs": []
    },
    {
      "cell_type": "code",
      "metadata": {
        "colab": {
          "base_uri": "https://localhost:8080/"
        },
        "id": "ScJd2B8oM2JH",
        "outputId": "6df9604e-95fb-4908-a869-ff23826c134a"
      },
      "source": [
        "print(\"***Generando 10 IA durante el día***\\n\")\n",
        "for _ in range(10):\n",
        "  print(\"[*] IA: %d\" % IA_dia())"
      ],
      "execution_count": 73,
      "outputs": [
        {
          "output_type": "stream",
          "name": "stdout",
          "text": [
            "***Generando 10 IA durante el día***\n",
            "\n",
            "[*] IA: 0\n",
            "[*] IA: 0\n",
            "[*] IA: 2\n",
            "[*] IA: 0\n",
            "[*] IA: 0\n",
            "[*] IA: 1\n",
            "[*] IA: 0\n",
            "[*] IA: 0\n",
            "[*] IA: 0\n",
            "[*] IA: 1\n"
          ]
        }
      ]
    },
    {
      "cell_type": "markdown",
      "metadata": {
        "id": "65e6yim8Nixf"
      },
      "source": [
        "# Horario Noche\n",
        "\n",
        "Función de Densidad de Probabilidad (Exponencial) :\n",
        "\n",
        "$$f(x) = 0.3479e^{-0.3479x}$$\n",
        "\n",
        "Función Inversa:\n",
        "\n",
        "$$f(R) = \\frac{ln(-R+1)}{-0.3479}$$\n",
        "\n",
        ">Nota: Debe ignorarse R = 1 pues causará error en el logaritmo natural."
      ]
    },
    {
      "cell_type": "code",
      "metadata": {
        "id": "N4tudboYOLAk"
      },
      "source": [
        "def IA_noche():\n",
        "  r = random.rand()\n",
        "  return int(np.log(-r+1) / -0.3479)"
      ],
      "execution_count": 55,
      "outputs": []
    },
    {
      "cell_type": "code",
      "metadata": {
        "colab": {
          "base_uri": "https://localhost:8080/"
        },
        "id": "KZ2GoPicOOg-",
        "outputId": "0be3f38e-912e-4d54-a33d-7c6a2ba48d64"
      },
      "source": [
        "print(\"***Generando 10 IA durante la noche***\\n\")\n",
        "for _ in range(10):\n",
        "  print(\"[*] IA: %d\" % IA_noche())"
      ],
      "execution_count": 72,
      "outputs": [
        {
          "output_type": "stream",
          "name": "stdout",
          "text": [
            "***Generando 10 IA durante la noche***\n",
            "\n",
            "[*] IA: 6\n",
            "[*] IA: 4\n",
            "[*] IA: 7\n",
            "[*] IA: 1\n",
            "[*] IA: 1\n",
            "[*] IA: 2\n",
            "[*] IA: 4\n",
            "[*] IA: 8\n",
            "[*] IA: 2\n",
            "[*] IA: 1\n"
          ]
        }
      ]
    },
    {
      "cell_type": "markdown",
      "metadata": {
        "id": "NDxbXhuIOnqQ"
      },
      "source": [
        "# Horario Madrugada\n",
        "\n",
        "Función de Densidad de Probabilidad (Exponencial) :\n",
        "\n",
        "$$f(x) = 0.1588e^{-0.1588x}$$\n",
        "\n",
        "Función Inversa:\n",
        "\n",
        "$$f(R) = \\frac{ln(-R+1)}{-0.1588}$$\n",
        "\n",
        ">Nota: Debe ignorarse R = 1 pues causará error en el logaritmo natural."
      ]
    },
    {
      "cell_type": "code",
      "metadata": {
        "id": "aHcidSBHOSiL"
      },
      "source": [
        "def IA_madrugada():\n",
        "  r = random.rand()\n",
        "  return int(np.log(-r+1) / -0.1588)"
      ],
      "execution_count": 61,
      "outputs": []
    },
    {
      "cell_type": "code",
      "metadata": {
        "colab": {
          "base_uri": "https://localhost:8080/"
        },
        "id": "kTkJzTi7Oyx2",
        "outputId": "cfededf8-a84c-4b34-8b2a-bab763d9fdf8"
      },
      "source": [
        "print(\"***Generando 10 IA durante la madrugada***\\n\")\n",
        "for _ in range(10):\n",
        "  print(\"[*] IA: %d\" % IA_madrugada())"
      ],
      "execution_count": 70,
      "outputs": [
        {
          "output_type": "stream",
          "name": "stdout",
          "text": [
            "***Generando 10 IA durante la madrugada***\n",
            "\n",
            "[*] IA: 15\n",
            "[*] IA: 3\n",
            "[*] IA: 17\n",
            "[*] IA: 21\n",
            "[*] IA: 10\n",
            "[*] IA: 1\n",
            "[*] IA: 4\n",
            "[*] IA: 13\n",
            "[*] IA: 10\n",
            "[*] IA: 3\n"
          ]
        }
      ]
    }
  ]
}