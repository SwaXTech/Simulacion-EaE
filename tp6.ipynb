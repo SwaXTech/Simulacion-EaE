{
  "nbformat": 4,
  "nbformat_minor": 0,
  "metadata": {
    "colab": {
      "name": "tp6.ipynb",
      "provenance": [],
      "collapsed_sections": [],
      "authorship_tag": "ABX9TyPhAaLUnJjel3OIzgmM/JI8",
      "include_colab_link": true
    },
    "kernelspec": {
      "name": "python3",
      "display_name": "Python 3"
    },
    "language_info": {
      "name": "python"
    }
  },
  "cells": [
    {
      "cell_type": "markdown",
      "metadata": {
        "id": "view-in-github",
        "colab_type": "text"
      },
      "source": [
        "<a href=\"https://colab.research.google.com/github/SwaXTech/Simulacion-EaE/blob/main/tp6.ipynb\" target=\"_parent\"><img src=\"https://colab.research.google.com/assets/colab-badge.svg\" alt=\"Open In Colab\"/></a>"
      ]
    },
    {
      "cell_type": "markdown",
      "metadata": {
        "id": "mrLvyu-t4y7V"
      },
      "source": [
        "# Trabajo Práctico #6\n",
        "\n"
      ]
    },
    {
      "cell_type": "code",
      "metadata": {
        "cellView": "form",
        "id": "oIGDLDT3s3f2"
      },
      "source": [
        "#@title Imports de bibliotecas necesarias\n",
        "from datetime import datetime\n",
        "import pandas as pd\n",
        "from matplotlib import pyplot as plt\n",
        "import numpy as np"
      ],
      "execution_count": 1,
      "outputs": []
    },
    {
      "cell_type": "code",
      "metadata": {
        "cellView": "form",
        "id": "j9jlqNNTazMj"
      },
      "source": [
        "#@title Definición de funciones\n",
        "def graph(dictionary, name):\n",
        "  objects = dictionary.keys()\n",
        "  y_pos = np.arange(len(objects))\n",
        "  values = dictionary.values()\n",
        "\n",
        "  plt.figure(figsize=(20, 5))\n",
        "  plt.bar(y_pos, values, align='edge', width=0.3)\n",
        "  plt.xticks(y_pos, objects)\n",
        "  plt.ylabel('Peticiones')\n",
        "  plt.title(name)\n",
        "\n",
        "  plt.show()\n",
        "\n",
        "\n",
        "def calculate_intervals(timestamps_list):\n",
        "  intervals = []\n",
        "\n",
        "  i = 1\n",
        "  while i < len(timestamps_list):\n",
        "    intervals.append((timestamps_list[i] - timestamps_list[i - 1]).astype('timedelta64[s]').astype(np.int32))\n",
        "    i += 1\n",
        "\n",
        "  return intervals\n",
        "\n",
        "\n",
        "def print_data(dictionary):\n",
        "  values = np.array(list(dictionary.values()))\n",
        "\n",
        "  print(\"Media: %f\" % values.mean())\n",
        "  print(\"Varianza: %f\" %values.var())\n",
        "  print(\"Desvío Estandar: %f\" %values.std())\n"
      ],
      "execution_count": 2,
      "outputs": []
    },
    {
      "cell_type": "code",
      "metadata": {
        "colab": {
          "base_uri": "https://localhost:8080/"
        },
        "id": "Fa6vF5mg5TRQ",
        "cellView": "form",
        "outputId": "dc59c1b3-9149-448a-91da-a8b7522bad2d"
      },
      "source": [
        "#@title Descarga del archivo de TimeStamps\n",
        "!curl -L -o timestamps.csv -C - 'https://raw.githubusercontent.com/SwaXTech/Simulacion-EaE/main/timestamps.csv'"
      ],
      "execution_count": 3,
      "outputs": [
        {
          "output_type": "stream",
          "name": "stdout",
          "text": [
            "** Resuming transfer from byte position 656550\n",
            "  % Total    % Received % Xferd  Average Speed   Time    Time     Time  Current\n",
            "                                 Dload  Upload   Total   Spent    Left  Speed\n",
            "  0     0    0     0    0     0      0      0 --:--:-- --:--:-- --:--:--     0\n"
          ]
        }
      ]
    },
    {
      "cell_type": "code",
      "metadata": {
        "colab": {
          "base_uri": "https://localhost:8080/",
          "height": 419
        },
        "id": "vi1LCamvreg1",
        "cellView": "form",
        "outputId": "0459da31-152a-458b-fe7c-4abc904d6e77"
      },
      "source": [
        "#@title Carga del archivo de timestamps\n",
        "serie = pd.read_csv('timestamps.csv')\n",
        "serie"
      ],
      "execution_count": 4,
      "outputs": [
        {
          "output_type": "execute_result",
          "data": {
            "text/html": [
              "<div>\n",
              "<style scoped>\n",
              "    .dataframe tbody tr th:only-of-type {\n",
              "        vertical-align: middle;\n",
              "    }\n",
              "\n",
              "    .dataframe tbody tr th {\n",
              "        vertical-align: top;\n",
              "    }\n",
              "\n",
              "    .dataframe thead th {\n",
              "        text-align: right;\n",
              "    }\n",
              "</style>\n",
              "<table border=\"1\" class=\"dataframe\">\n",
              "  <thead>\n",
              "    <tr style=\"text-align: right;\">\n",
              "      <th></th>\n",
              "      <th>TimeStamp</th>\n",
              "    </tr>\n",
              "  </thead>\n",
              "  <tbody>\n",
              "    <tr>\n",
              "      <th>0</th>\n",
              "      <td>09/14/2021 12:00:07</td>\n",
              "    </tr>\n",
              "    <tr>\n",
              "      <th>1</th>\n",
              "      <td>09/14/2021 12:00:08</td>\n",
              "    </tr>\n",
              "    <tr>\n",
              "      <th>2</th>\n",
              "      <td>09/14/2021 12:00:08</td>\n",
              "    </tr>\n",
              "    <tr>\n",
              "      <th>3</th>\n",
              "      <td>09/14/2021 12:00:11</td>\n",
              "    </tr>\n",
              "    <tr>\n",
              "      <th>4</th>\n",
              "      <td>09/14/2021 12:00:21</td>\n",
              "    </tr>\n",
              "    <tr>\n",
              "      <th>...</th>\n",
              "      <td>...</td>\n",
              "    </tr>\n",
              "    <tr>\n",
              "      <th>32822</th>\n",
              "      <td>09/14/2021 11:59:31</td>\n",
              "    </tr>\n",
              "    <tr>\n",
              "      <th>32823</th>\n",
              "      <td>09/14/2021 11:59:44</td>\n",
              "    </tr>\n",
              "    <tr>\n",
              "      <th>32824</th>\n",
              "      <td>09/14/2021 11:59:47</td>\n",
              "    </tr>\n",
              "    <tr>\n",
              "      <th>32825</th>\n",
              "      <td>09/14/2021 11:59:58</td>\n",
              "    </tr>\n",
              "    <tr>\n",
              "      <th>32826</th>\n",
              "      <td>09/14/2021 11:59:58</td>\n",
              "    </tr>\n",
              "  </tbody>\n",
              "</table>\n",
              "<p>32827 rows × 1 columns</p>\n",
              "</div>"
            ],
            "text/plain": [
              "                 TimeStamp\n",
              "0      09/14/2021 12:00:07\n",
              "1      09/14/2021 12:00:08\n",
              "2      09/14/2021 12:00:08\n",
              "3      09/14/2021 12:00:11\n",
              "4      09/14/2021 12:00:21\n",
              "...                    ...\n",
              "32822  09/14/2021 11:59:31\n",
              "32823  09/14/2021 11:59:44\n",
              "32824  09/14/2021 11:59:47\n",
              "32825  09/14/2021 11:59:58\n",
              "32826  09/14/2021 11:59:58\n",
              "\n",
              "[32827 rows x 1 columns]"
            ]
          },
          "metadata": {},
          "execution_count": 4
        }
      ]
    },
    {
      "cell_type": "code",
      "metadata": {
        "id": "_xijCTCDrhci",
        "cellView": "form"
      },
      "source": [
        "#@title Conversión de strings a datetime y separación en am/pm para limpieza y corrección de datos\n",
        "datetime_serie = serie['TimeStamp'].map(lambda timestamp: datetime.strptime(timestamp, '%m/%d/%Y %H:%M:%S'))\n",
        "datetime_serie_am = datetime_serie[:11202]\n",
        "datetime_serie_pm = datetime_serie[11202:]"
      ],
      "execution_count": 5,
      "outputs": []
    },
    {
      "cell_type": "code",
      "metadata": {
        "colab": {
          "base_uri": "https://localhost:8080/"
        },
        "id": "v2ea9vJevU4I",
        "cellView": "form",
        "outputId": "49a0b703-7da1-445b-d27c-81e8882b2c31"
      },
      "source": [
        "#@title Separando por hora para conocer cómo se distribuyen las peticiones a lo largo de las horas\n",
        "dictionary = {}\n",
        "\n",
        "for date in datetime_serie_am:\n",
        "  hour = date.hour\n",
        "\n",
        "  if date.hour == 12:\n",
        "    hour = 0\n",
        "\n",
        "  if hour in dictionary.keys():\n",
        "    dictionary[hour] +=1\n",
        "  else:\n",
        "    dictionary[hour] = 0\n",
        "\n",
        "for date in datetime_serie_pm:\n",
        "  \n",
        "  hour = date.hour\n",
        "\n",
        "  if not date.hour == 12:\n",
        "     hour += 12\n",
        "\n",
        "  if hour in dictionary.keys():\n",
        "    dictionary[hour] +=1\n",
        "  else:\n",
        "    dictionary[hour] = 0\n",
        "\n",
        "print(\"Peticiones por Hora\")\n",
        "pd.Series(dictionary, name=\"Peticiones por Hora\")"
      ],
      "execution_count": 6,
      "outputs": [
        {
          "output_type": "stream",
          "name": "stdout",
          "text": [
            "Peticiones por Hora\n"
          ]
        },
        {
          "output_type": "execute_result",
          "data": {
            "text/plain": [
              "0      777\n",
              "1      423\n",
              "2      283\n",
              "3      239\n",
              "4      287\n",
              "5      408\n",
              "6      516\n",
              "7      962\n",
              "8     1242\n",
              "9     1555\n",
              "10    2292\n",
              "11    2206\n",
              "12    1954\n",
              "13    2318\n",
              "14    2204\n",
              "15    2319\n",
              "16    2039\n",
              "17    2268\n",
              "18    1909\n",
              "19    1599\n",
              "20    1325\n",
              "21    1369\n",
              "22    1285\n",
              "23    1024\n",
              "Name: Peticiones por Hora, dtype: int64"
            ]
          },
          "metadata": {},
          "execution_count": 6
        }
      ]
    },
    {
      "cell_type": "code",
      "metadata": {
        "colab": {
          "base_uri": "https://localhost:8080/",
          "height": 336
        },
        "id": "vTFxcPlQzYPu",
        "cellView": "form",
        "outputId": "c76800d8-c671-4efe-efc9-a988739050dc"
      },
      "source": [
        "#@title Generación del Histograma\n",
        "#@markdown Separaremos la función de probabilidad en dos <br>\n",
        "#@markdown - 9 a 20hs\n",
        "#@markdown - 20 a 9hs\n",
        "\n",
        "graph(dictionary, \"Peticiones por Hora - Todo el Día\")"
      ],
      "execution_count": 7,
      "outputs": [
        {
          "output_type": "display_data",
          "data": {
            "image/png": "[encoded data removed]",
            "text/plain": [
              "<Figure size 1440x360 with 1 Axes>"
            ]
          },
          "metadata": {
            "needs_background": "light"
          }
        }
      ]
    },
    {
      "cell_type": "code",
      "metadata": {
        "id": "E50ilpxY2gGM",
        "colab": {
          "base_uri": "https://localhost:8080/"
        },
        "cellView": "form",
        "outputId": "3c887b22-48c5-4eb2-94bb-64239b8c7cba"
      },
      "source": [
        "#@title Media Varianza y Desvío Estandar\n",
        "print_data(dictionary)"
      ],
      "execution_count": 8,
      "outputs": [
        {
          "output_type": "stream",
          "name": "stdout",
          "text": [
            "Media: 1366.791667\n",
            "Varianza: 536018.914931\n",
            "Desvío Estandar: 732.133127\n"
          ]
        }
      ]
    },
    {
      "cell_type": "code",
      "metadata": {
        "cellView": "form",
        "id": "1vG6b__2E8CN"
      },
      "source": [
        "#@title Reacomodamiento de timestamps\n",
        "\n",
        "fr_0_9 = datetime_serie[:5145].values\n",
        "fr_9_19 = datetime_serie[5145:26220].values\n",
        "fr_19_0 = datetime_serie[26220:].values\n",
        "\n",
        "intervalos_horario_pico = calculate_intervals(fr_9_19)\n",
        "intervalos_horario_normal = calculate_intervals(fr_0_9)\n",
        "intervalos_horario_normal.extend(calculate_intervals(fr_19_0))\n",
        "\n",
        "dictionary_horario_normal = {}\n",
        "dictionary_horario_pico = {}\n",
        "\n",
        "for date in fr_0_9:\n",
        "  hour = pd.to_datetime(date).hour\n",
        "\n",
        "  if hour == 12:\n",
        "    hour = 0\n",
        "\n",
        "  if hour in dictionary_horario_normal.keys():\n",
        "    dictionary_horario_normal[hour] +=1\n",
        "  else:\n",
        "    dictionary_horario_normal[hour] = 0\n",
        "\n",
        "for date in fr_19_0:\n",
        "  hour = pd.to_datetime(date).hour + 12\n",
        "\n",
        "  if hour in dictionary_horario_normal.keys():\n",
        "    dictionary_horario_normal[hour] +=1\n",
        "  else:\n",
        "    dictionary_horario_normal[hour] = 0\n",
        "\n",
        "for date in fr_9_19:\n",
        "  \n",
        "  hour = pd.to_datetime(date).hour\n",
        "\n",
        "  if not hour < 7 :\n",
        "     hour += 12\n",
        "\n",
        "  if hour in dictionary_horario_pico.keys():\n",
        "    dictionary_horario_pico[hour] +=1\n",
        "  else:\n",
        "    dictionary_horario_pico[hour] = 0"
      ],
      "execution_count": 9,
      "outputs": []
    },
    {
      "cell_type": "code",
      "metadata": {
        "colab": {
          "base_uri": "https://localhost:8080/",
          "height": 336
        },
        "cellView": "form",
        "id": "4RPZzcFdTrqX",
        "outputId": "3b7bd080-6624-47fe-de29-cd829424b5a5"
      },
      "source": [
        "#@title Histograma - Horario Normal\n",
        "graph(dictionary_horario_normal, \"Peticiones por Hora - Horario Normal\")"
      ],
      "execution_count": 10,
      "outputs": [
        {
          "output_type": "display_data",
          "data": {
            "image/png": "[encoded data removed]",
            "text/plain": [
              "<Figure size 1440x360 with 1 Axes>"
            ]
          },
          "metadata": {
            "needs_background": "light"
          }
        }
      ]
    },
    {
      "cell_type": "code",
      "metadata": {
        "colab": {
          "base_uri": "https://localhost:8080/",
          "height": 336
        },
        "cellView": "form",
        "id": "5ZWW4BXOZbxb",
        "outputId": "26e57d76-3250-497e-e358-3a784f8d3a32"
      },
      "source": [
        "#@title Histograma - Horario Pico\n",
        "graph(dictionary_horario_pico, \"Peticiones por Hora - Horario Pico\")"
      ],
      "execution_count": 11,
      "outputs": [
        {
          "output_type": "display_data",
          "data": {
            "image/png": "[encoded data removed]",
            "text/plain": [
              "<Figure size 1440x360 with 1 Axes>"
            ]
          },
          "metadata": {
            "needs_background": "light"
          }
        }
      ]
    },
    {
      "cell_type": "code",
      "metadata": {
        "colab": {
          "base_uri": "https://localhost:8080/"
        },
        "cellView": "form",
        "id": "nLCfkzhkZpgb",
        "outputId": "0cfbbdae-dc39-49e9-d37f-6c2f5947b21e"
      },
      "source": [
        "#@title Media Varianza y Desvío Estandar - Horario Pico\n",
        "print_data(dictionary_horario_pico)"
      ],
      "execution_count": 12,
      "outputs": [
        {
          "output_type": "stream",
          "name": "stdout",
          "text": [
            "Media: 2106.500000\n",
            "Varianza: 54045.450000\n",
            "Desvío Estandar: 232.476773\n"
          ]
        }
      ]
    },
    {
      "cell_type": "code",
      "metadata": {
        "colab": {
          "base_uri": "https://localhost:8080/"
        },
        "cellView": "form",
        "id": "6xj92hGlaCWl",
        "outputId": "2871e0d6-c0b6-486f-ce34-88cacba18530"
      },
      "source": [
        "#@title Media Varianza y Desvío Estandar - Horario Normal\n",
        "print_data(dictionary_horario_normal)"
      ],
      "execution_count": 13,
      "outputs": [
        {
          "output_type": "stream",
          "name": "stdout",
          "text": [
            "Media: 838.428571\n",
            "Varianza: 210451.816327\n",
            "Desvío Estandar: 458.750277\n"
          ]
        }
      ]
    }
  ]
}